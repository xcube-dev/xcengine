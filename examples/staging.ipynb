{
 "cells": [
  {
   "cell_type": "markdown",
   "id": "a7055ada-b79a-467f-bbc8-48b744367324",
   "metadata": {
    "editable": true,
    "slideshow": {
     "slide_type": ""
    },
    "tags": []
   },
   "source": [
    "Parameters cell"
   ]
  },
  {
   "cell_type": "code",
   "execution_count": 5,
   "id": "fbb2fa57-fb9c-4b67-86c4-6fc02cfe9e12",
   "metadata": {
    "editable": true,
    "slideshow": {
     "slide_type": ""
    },
    "tags": [
     "parameters"
    ]
   },
   "outputs": [],
   "source": [
    "import xcube.core.new\n",
    "\n",
    "periods = 10\n",
    "cube1 = xcube.core.new.new_cube(\n",
    "    variables={\"v\": lambda x, y, t: (x + y + t) % 10},\n",
    "    time_periods=periods\n",
    ")\n",
    "cube2 = xcube.core.new.new_cube(\n",
    "    variables={\"v\": lambda x, y, t: (x - y + t) % 10},\n",
    "    time_periods=periods\n",
    ")\n",
    "\n",
    "del xcube"
   ]
  },
  {
   "cell_type": "code",
   "execution_count": 7,
   "id": "df9686d6-395b-4bfd-bd10-c7e03df5cf38",
   "metadata": {
    "editable": true,
    "slideshow": {
     "slide_type": ""
    },
    "tags": []
   },
   "outputs": [],
   "source": [
    "cube1.attrs[\"title\"] = \"Cube 1\"\n",
    "cube2.attrs[\"title\"] = \"Cube 2\""
   ]
  },
  {
   "cell_type": "code",
   "execution_count": null,
   "id": "5fb0b2d6-364a-4875-aa80-37e9f4e76abf",
   "metadata": {
    "editable": true,
    "slideshow": {
     "slide_type": ""
    },
    "tags": []
   },
   "outputs": [],
   "source": []
  }
 ],
 "metadata": {
  "kernelspec": {
   "display_name": "Python 3 (ipykernel)",
   "language": "python",
   "name": "python3"
  },
  "language_info": {
   "codemirror_mode": {
    "name": "ipython",
    "version": 3
   },
   "file_extension": ".py",
   "mimetype": "text/x-python",
   "name": "python",
   "nbconvert_exporter": "python",
   "pygments_lexer": "ipython3",
   "version": "3.12.8"
  }
 },
 "nbformat": 4,
 "nbformat_minor": 5
}
