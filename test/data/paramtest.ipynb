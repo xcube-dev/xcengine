{
 "cells": [
  {
   "cell_type": "code",
   "execution_count": null,
   "id": "39da67c4-94a7-4f13-8bda-87a9a3812694",
   "metadata": {
    "editable": true,
    "slideshow": {
     "slide_type": ""
    },
    "tags": []
   },
   "outputs": [],
   "source": [
    "import math\n",
    "\n",
    "my_constant = math.floor(3.5)"
   ]
  },
  {
   "cell_type": "code",
   "execution_count": null,
   "id": "bae7e3db-0886-4d33-b982-4374452f62d0",
   "metadata": {
    "editable": true,
    "slideshow": {
     "slide_type": ""
    },
    "tags": [
     "parameters"
    ]
   },
   "outputs": [],
   "source": [
    "parameter_1 = my_constant * 2\n",
    "parameter_2 = \"default value\""
   ]
  }
 ],
 "metadata": {
  "kernelspec": {
   "display_name": "Python 3 (ipykernel)",
   "language": "python",
   "name": "python3"
  },
  "language_info": {
   "codemirror_mode": {
    "name": "ipython",
    "version": 3
   },
   "file_extension": ".py",
   "mimetype": "text/x-python",
   "name": "python",
   "nbconvert_exporter": "python",
   "pygments_lexer": "ipython3",
   "version": "3.12.8"
  }
 },
 "nbformat": 4,
 "nbformat_minor": 5
}
