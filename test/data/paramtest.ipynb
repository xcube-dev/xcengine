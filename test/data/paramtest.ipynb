{
 "cells": [
  {
   "cell_type": "markdown",
   "id": "6445ff96-ab4e-4b05-aed9-041402cfa6e7",
   "metadata": {
    "editable": true,
    "slideshow": {
     "slide_type": ""
    },
    "tags": []
   },
   "source": [
    "This is a Markdown cell."
   ]
  },
  {
   "cell_type": "code",
   "execution_count": null,
   "id": "39da67c4-94a7-4f13-8bda-87a9a3812694",
   "metadata": {
    "editable": true,
    "slideshow": {
     "slide_type": ""
    },
    "tags": []
   },
   "outputs": [],
   "source": [
    "import math\n",
    "\n",
    "my_constant = math.floor(3.5)"
   ]
  },
  {
   "cell_type": "raw",
   "id": "325a90ed-c291-4277-9c0f-99c5543ac218",
   "metadata": {
    "editable": true,
    "raw_mimetype": "text/asciidoc",
    "slideshow": {
     "slide_type": ""
    },
    "tags": []
   },
   "source": [
    "This is a raw cell."
   ]
  },
  {
   "cell_type": "markdown",
   "id": "beb2ee7b-e984-4613-ba37-a486c40527f6",
   "metadata": {
    "editable": true,
    "slideshow": {
     "slide_type": ""
    },
    "tags": []
   },
   "source": [
    "Below are some magic commands, to make sure that these are handled during\n",
    "parameter extraction and conversion."
   ]
  },
  {
   "cell_type": "code",
   "execution_count": 3,
   "id": "d6b05d5c-87a7-4002-b7b1-aead36c08482",
   "metadata": {
    "editable": true,
    "slideshow": {
     "slide_type": ""
    },
    "tags": []
   },
   "outputs": [
    {
     "data": {
      "text/html": [
       "<h3>Hi!</h3>\n"
      ],
      "text/plain": [
       "<IPython.core.display.HTML object>"
      ]
     },
     "metadata": {},
     "output_type": "display_data"
    }
   ],
   "source": [
    "%%html\n",
    "<h3>Hi!</h3>"
   ]
  },
  {
   "cell_type": "code",
   "execution_count": 4,
   "id": "eef41e77-30e5-4138-ad27-810b31161194",
   "metadata": {
    "editable": true,
    "slideshow": {
     "slide_type": ""
    },
    "tags": []
   },
   "outputs": [
    {
     "data": {
      "text/plain": [
       "[]"
      ]
     },
     "execution_count": 4,
     "metadata": {},
     "output_type": "execute_result"
    }
   ],
   "source": [
    "%dirs"
   ]
  },
  {
   "cell_type": "markdown",
   "id": "567258c5-847f-4d6a-be80-9d69991df102",
   "metadata": {
    "editable": true,
    "slideshow": {
     "slide_type": ""
    },
    "tags": []
   },
   "source": [
    "Now the parameter cell! In a real notebook this should ideally come as early as possible,\n",
    "but in this test notebook we add some \"tricky\" cells before it to make sure that xcetool\n",
    "can deal with them."
   ]
  },
  {
   "cell_type": "code",
   "execution_count": null,
   "id": "bae7e3db-0886-4d33-b982-4374452f62d0",
   "metadata": {
    "editable": true,
    "slideshow": {
     "slide_type": ""
    },
    "tags": [
     "parameters"
    ]
   },
   "outputs": [],
   "source": [
    "parameter_1 = my_constant * 2\n",
    "parameter_2 = \"default value\"\n",
    "xcengine_config = dict(\n",
    "    workflow_id=\"my-workflow\",\n",
    "    environment_file=\"my-environment.yml\",\n",
    "    container_image_tag=\"my-tag\",\n",
    ")"
   ]
  }
 ],
 "metadata": {
  "kernelspec": {
   "display_name": "Python 3 (ipykernel)",
   "language": "python",
   "name": "python3"
  },
  "language_info": {
   "codemirror_mode": {
    "name": "ipython",
    "version": 3
   },
   "file_extension": ".py",
   "mimetype": "text/x-python",
   "name": "python",
   "nbconvert_exporter": "python",
   "pygments_lexer": "ipython3",
   "version": "3.13.3"
  }
 },
 "nbformat": 4,
 "nbformat_minor": 5
}
